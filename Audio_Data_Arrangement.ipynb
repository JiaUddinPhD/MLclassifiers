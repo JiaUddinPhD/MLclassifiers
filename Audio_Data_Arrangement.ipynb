{
  "nbformat": 4,
  "nbformat_minor": 0,
  "metadata": {
    "colab": {
      "name": "Audio Data Arrangement.ipynb",
      "provenance": [],
      "collapsed_sections": [],
      "toc_visible": true
    },
    "kernelspec": {
      "name": "python3",
      "display_name": "Python 3"
    },
    "language_info": {
      "name": "python"
    }
  },
  "cells": [
    {
      "cell_type": "markdown",
      "metadata": {
        "id": "4kNFulSNk409"
      },
      "source": [
        "Please carefully check the path of the folder I will take here. I will demonstrated the data reading part here."
      ]
    },
    {
      "cell_type": "markdown",
      "metadata": {
        "id": "ljIJtxtOlHxt"
      },
      "source": [
        "Download the audio data, mount the drive. Similar process "
      ]
    },
    {
      "cell_type": "code",
      "metadata": {
        "id": "hY-oi44Xk1X9"
      },
      "source": [
        "# file directory check\n",
        "# On cats and dogs dataset, under training folder, you will see there are two folders called cats and dogs. we will take those\n",
        "import os\n",
        "for dirname, _, filenames in os.walk('/content/drive/MyDrive/Programs/cats_dogs/train'):\n",
        "    for filename in filenames:\n",
        "        os.path.join(dirname, filename)"
      ],
      "execution_count": null,
      "outputs": []
    },
    {
      "cell_type": "code",
      "metadata": {
        "id": "ta5zf7hjlh4e"
      },
      "source": [
        "# import basic packages\n",
        "import numpy as np\n",
        "import pandas as pd\n",
        "import matplotlib.pyplot as plt\n",
        "%matplotlib inline\n",
        "import librosa, librosa.display\n",
        "from tqdm import tqdm"
      ],
      "execution_count": null,
      "outputs": []
    },
    {
      "cell_type": "code",
      "metadata": {
        "colab": {
          "base_uri": "https://localhost:8080/"
        },
        "id": "sicCHMDjBNI4",
        "outputId": "d0c0b854-fa75-482c-cae0-ee53a4be40b0"
      },
      "source": [
        "# check the sample rate\n",
        "# load a sample data\n",
        "x, sr = librosa.load(r'/content/drive/MyDrive/Programs/cats_dogs/test/cats/cat_110.wav')\n",
        "print(sr)"
      ],
      "execution_count": null,
      "outputs": [
        {
          "output_type": "stream",
          "text": [
            "22050\n"
          ],
          "name": "stdout"
        }
      ]
    },
    {
      "cell_type": "markdown",
      "metadata": {
        "id": "wRYIUTGVBas4"
      },
      "source": [
        "But we are not sure, whether each sample has 22050 amount of data length. Therefore, we can take a definite number of sample points.\n",
        "\n",
        "In this dataset, one data has 20765 number of sample points. \n",
        "\n",
        "Therefore, to make sure all the lengths are similar we will do the following to\n",
        "create our dataset."
      ]
    },
    {
      "cell_type": "code",
      "metadata": {
        "id": "qeNK6REsli3l"
      },
      "source": [
        "# on the datadirectory also we will give that previously mentioned path\n",
        "DATADIR = '/content/drive/MyDrive/Programs/cats_dogs/train'\n",
        "CATEGORIES = ['cat','dog']"
      ],
      "execution_count": null,
      "outputs": []
    },
    {
      "cell_type": "code",
      "metadata": {
        "id": "pnOVcQZhl1Ae"
      },
      "source": [
        "# perfrom some processing to store the data\n",
        "training_data=[]\n",
        "def create_training_data():\n",
        "    for category in CATEGORIES:\n",
        "        path=os.path.join(DATADIR, category)\n",
        "        class_num=CATEGORIES.index(category)\n",
        "        for audio in os.listdir(path):\n",
        "            audio_array, sr_array=librosa.load(os.path.join(path,audio))\n",
        "            audio_array = audio_array[0:20765]\n",
        "            training_data.append([audio_array,class_num])\n",
        "create_training_data()  "
      ],
      "execution_count": null,
      "outputs": []
    },
    {
      "cell_type": "markdown",
      "metadata": {
        "id": "XrXGbkzqClnQ"
      },
      "source": [
        "If we are sure that each dataset has at least samples till sr amount, then on the previous block of code \n",
        "\n",
        "we can wtite \n",
        "\n",
        "\n",
        "```\n",
        "# audio_array = audio_array[0:sr]\n",
        "```\n",
        "\n"
      ]
    },
    {
      "cell_type": "code",
      "metadata": {
        "colab": {
          "base_uri": "https://localhost:8080/"
        },
        "id": "M6Ogx2sj3YLK",
        "outputId": "bf564d6c-53cf-4dc0-fce4-7dc664b60d3f"
      },
      "source": [
        "# check the length of training data and store it for further usage\n",
        "print(len(training_data))\n",
        "lenofaudio = len(training_data)"
      ],
      "execution_count": null,
      "outputs": [
        {
          "output_type": "stream",
          "text": [
            "210\n"
          ],
          "name": "stdout"
        }
      ]
    },
    {
      "cell_type": "code",
      "metadata": {
        "id": "4izN-vKunWBc"
      },
      "source": [
        "# split x and y\n",
        "X=[]\n",
        "y=[]\n",
        "\n",
        "for categories, label in training_data:\n",
        "    X.append(categories)\n",
        "    y.append(label)\n"
      ],
      "execution_count": null,
      "outputs": []
    },
    {
      "cell_type": "code",
      "metadata": {
        "colab": {
          "base_uri": "https://localhost:8080/"
        },
        "id": "f-kwiJtWngw-",
        "outputId": "9cc377f2-e526-4b6c-d9ea-f925759f1fa1"
      },
      "source": [
        "X = np.vstack(X)\n",
        "X = np.array(X).reshape(lenofaudio,-1)\n",
        "X.shape"
      ],
      "execution_count": null,
      "outputs": [
        {
          "output_type": "execute_result",
          "data": {
            "text/plain": [
              "(210, 20765)"
            ]
          },
          "metadata": {
            "tags": []
          },
          "execution_count": 56
        }
      ]
    },
    {
      "cell_type": "code",
      "metadata": {
        "colab": {
          "base_uri": "https://localhost:8080/"
        },
        "id": "lMhw7rURoCvt",
        "outputId": "6152a9aa-a3e7-46d1-f268-1ab6b28473c1"
      },
      "source": [
        "# y should be in array form as well\n",
        "y=np.array(y)\n",
        "# check the shape\n",
        "y.shape"
      ],
      "execution_count": null,
      "outputs": [
        {
          "output_type": "execute_result",
          "data": {
            "text/plain": [
              "(210,)"
            ]
          },
          "metadata": {
            "tags": []
          },
          "execution_count": 57
        }
      ]
    },
    {
      "cell_type": "markdown",
      "metadata": {
        "id": "G5nt-HOooEOd"
      },
      "source": [
        "# **Classifier Sample**"
      ]
    },
    {
      "cell_type": "code",
      "metadata": {
        "id": "zP_m2blrxlTZ"
      },
      "source": [
        "# Now we are ready with our dependent and independent features, now its time for data modeling.\n",
        "# applying train_test_split on our data\n",
        "from sklearn.model_selection import train_test_split\n",
        "X_train, X_test, y_train, y_test = train_test_split(X,y)"
      ],
      "execution_count": null,
      "outputs": []
    },
    {
      "cell_type": "code",
      "metadata": {
        "colab": {
          "base_uri": "https://localhost:8080/"
        },
        "id": "8XYVLEawxyrQ",
        "outputId": "c98a7a85-5099-4ef2-8d86-7e18bd64c087"
      },
      "source": [
        "from sklearn.svm import SVC\n",
        "svc = SVC(kernel='linear',gamma='auto')\n",
        "svc.fit(X_train, y_train)"
      ],
      "execution_count": null,
      "outputs": [
        {
          "output_type": "execute_result",
          "data": {
            "text/plain": [
              "SVC(C=1.0, break_ties=False, cache_size=200, class_weight=None, coef0=0.0,\n",
              "    decision_function_shape='ovr', degree=3, gamma='auto', kernel='linear',\n",
              "    max_iter=-1, probability=False, random_state=None, shrinking=True,\n",
              "    tol=0.001, verbose=False)"
            ]
          },
          "metadata": {
            "tags": []
          },
          "execution_count": 59
        }
      ]
    }
  ]
}